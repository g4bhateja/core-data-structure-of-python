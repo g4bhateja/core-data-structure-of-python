{
 "cells": [
  {
   "cell_type": "code",
   "execution_count": 27,
   "id": "da21fc7e",
   "metadata": {},
   "outputs": [],
   "source": [
    "list_instance = list()"
   ]
  },
  {
   "cell_type": "markdown",
   "id": "d1773b1f",
   "metadata": {},
   "source": [
    "list_instance = [] same like above"
   ]
  },
  {
   "cell_type": "markdown",
   "id": "0206f9c2",
   "metadata": {},
   "source": []
  },
  {
   "cell_type": "code",
   "execution_count": 28,
   "id": "84eabeb7",
   "metadata": {},
   "outputs": [
    {
     "data": {
      "text/plain": [
       "[]"
      ]
     },
     "execution_count": 28,
     "metadata": {},
     "output_type": "execute_result"
    }
   ],
   "source": [
    "list_instance"
   ]
  },
  {
   "cell_type": "code",
   "execution_count": 3,
   "id": "417d4920",
   "metadata": {},
   "outputs": [],
   "source": [
    "list_instance.append(18)"
   ]
  },
  {
   "cell_type": "code",
   "execution_count": 4,
   "id": "fbc91368",
   "metadata": {},
   "outputs": [
    {
     "data": {
      "text/plain": [
       "[18]"
      ]
     },
     "execution_count": 4,
     "metadata": {},
     "output_type": "execute_result"
    }
   ],
   "source": [
    "list_instance"
   ]
  },
  {
   "cell_type": "code",
   "execution_count": 5,
   "id": "cd617506",
   "metadata": {},
   "outputs": [],
   "source": [
    "list_instance.append(\"Gaurav\")"
   ]
  },
  {
   "cell_type": "code",
   "execution_count": 6,
   "id": "57330a97",
   "metadata": {},
   "outputs": [
    {
     "data": {
      "text/plain": [
       "[18, 'Gaurav']"
      ]
     },
     "execution_count": 6,
     "metadata": {},
     "output_type": "execute_result"
    }
   ],
   "source": [
    "list_instance"
   ]
  },
  {
   "cell_type": "code",
   "execution_count": 7,
   "id": "1f2b4ef4",
   "metadata": {},
   "outputs": [],
   "source": [
    "list_instance.append(18.11)"
   ]
  },
  {
   "cell_type": "code",
   "execution_count": 8,
   "id": "ac68ab51",
   "metadata": {},
   "outputs": [
    {
     "name": "stdout",
     "output_type": "stream",
     "text": [
      "[18, 'Gaurav', 18.11]\n"
     ]
    }
   ],
   "source": [
    "print(list_instance)"
   ]
  },
  {
   "cell_type": "code",
   "execution_count": 9,
   "id": "b5c075db",
   "metadata": {},
   "outputs": [],
   "source": [
    "list_instance.clear()"
   ]
  },
  {
   "cell_type": "code",
   "execution_count": 10,
   "id": "7ef27354",
   "metadata": {},
   "outputs": [
    {
     "data": {
      "text/plain": [
       "[]"
      ]
     },
     "execution_count": 10,
     "metadata": {},
     "output_type": "execute_result"
    }
   ],
   "source": [
    "list_instance"
   ]
  },
  {
   "cell_type": "code",
   "execution_count": 11,
   "id": "3a0ee8e7",
   "metadata": {},
   "outputs": [],
   "source": [
    "list_instance.append(18.11)"
   ]
  },
  {
   "cell_type": "code",
   "execution_count": 12,
   "id": "ed1c9156",
   "metadata": {},
   "outputs": [],
   "source": [
    "list_instance.append(\"gaurav\")"
   ]
  },
  {
   "cell_type": "code",
   "execution_count": 13,
   "id": "24168576",
   "metadata": {},
   "outputs": [],
   "source": [
    "list_instance.append(18)"
   ]
  },
  {
   "cell_type": "code",
   "execution_count": 14,
   "id": "28b933aa",
   "metadata": {},
   "outputs": [
    {
     "data": {
      "text/plain": [
       "[18.11, 'gaurav', 18]"
      ]
     },
     "execution_count": 14,
     "metadata": {},
     "output_type": "execute_result"
    }
   ],
   "source": [
    "list_instance"
   ]
  },
  {
   "cell_type": "code",
   "execution_count": 15,
   "id": "f01fe187",
   "metadata": {},
   "outputs": [
    {
     "ename": "NameError",
     "evalue": "name 'y' is not defined",
     "output_type": "error",
     "traceback": [
      "\u001b[1;31m---------------------------------------------------------------------------\u001b[0m",
      "\u001b[1;31mNameError\u001b[0m                                 Traceback (most recent call last)",
      "Cell \u001b[1;32mIn[15], line 1\u001b[0m\n\u001b[1;32m----> 1\u001b[0m c\u001b[38;5;241m=\u001b[39m\u001b[43my\u001b[49m\u001b[38;5;241m.\u001b[39mcount(\u001b[38;5;241m18\u001b[39m)\n",
      "\u001b[1;31mNameError\u001b[0m: name 'y' is not defined"
     ]
    }
   ],
   "source": [
    "c=y.count(18)"
   ]
  },
  {
   "cell_type": "code",
   "execution_count": 16,
   "id": "9d9f9479",
   "metadata": {},
   "outputs": [],
   "source": [
    "y= list_instance"
   ]
  },
  {
   "cell_type": "code",
   "execution_count": 17,
   "id": "93c54ab5",
   "metadata": {},
   "outputs": [
    {
     "data": {
      "text/plain": [
       "[18.11, 'gaurav', 18]"
      ]
     },
     "execution_count": 17,
     "metadata": {},
     "output_type": "execute_result"
    }
   ],
   "source": [
    "y"
   ]
  },
  {
   "cell_type": "code",
   "execution_count": 18,
   "id": "7303372e",
   "metadata": {},
   "outputs": [
    {
     "ename": "NameError",
     "evalue": "name 'c' is not defined",
     "output_type": "error",
     "traceback": [
      "\u001b[1;31m---------------------------------------------------------------------------\u001b[0m",
      "\u001b[1;31mNameError\u001b[0m                                 Traceback (most recent call last)",
      "Cell \u001b[1;32mIn[18], line 1\u001b[0m\n\u001b[1;32m----> 1\u001b[0m \u001b[43mc\u001b[49m\u001b[38;5;241m+\u001b[39my\u001b[38;5;241m.\u001b[39mcount(\u001b[38;5;241m18\u001b[39m)\n",
      "\u001b[1;31mNameError\u001b[0m: name 'c' is not defined"
     ]
    }
   ],
   "source": [
    "c+y.count(18)"
   ]
  },
  {
   "cell_type": "code",
   "execution_count": 19,
   "id": "c8541684",
   "metadata": {},
   "outputs": [],
   "source": [
    "c=y.count(18)"
   ]
  },
  {
   "cell_type": "code",
   "execution_count": 20,
   "id": "fc5ef0f0",
   "metadata": {},
   "outputs": [
    {
     "data": {
      "text/plain": [
       "1"
      ]
     },
     "execution_count": 20,
     "metadata": {},
     "output_type": "execute_result"
    }
   ],
   "source": [
    "c"
   ]
  },
  {
   "cell_type": "code",
   "execution_count": 21,
   "id": "36b8fa26",
   "metadata": {},
   "outputs": [
    {
     "name": "stdout",
     "output_type": "stream",
     "text": [
      "1\n"
     ]
    }
   ],
   "source": [
    "print(c)"
   ]
  },
  {
   "cell_type": "code",
   "execution_count": 22,
   "id": "4af8dfa9",
   "metadata": {},
   "outputs": [],
   "source": [
    "y.append(18)"
   ]
  },
  {
   "cell_type": "code",
   "execution_count": 23,
   "id": "57ab8c06",
   "metadata": {},
   "outputs": [
    {
     "data": {
      "text/plain": [
       "[18.11, 'gaurav', 18, 18]"
      ]
     },
     "execution_count": 23,
     "metadata": {},
     "output_type": "execute_result"
    }
   ],
   "source": [
    "y"
   ]
  },
  {
   "cell_type": "code",
   "execution_count": 24,
   "id": "83c4a756",
   "metadata": {},
   "outputs": [],
   "source": [
    "c=y.count(18)"
   ]
  },
  {
   "cell_type": "code",
   "execution_count": 25,
   "id": "10c59322",
   "metadata": {},
   "outputs": [
    {
     "data": {
      "text/plain": [
       "2"
      ]
     },
     "execution_count": 25,
     "metadata": {},
     "output_type": "execute_result"
    }
   ],
   "source": [
    "c"
   ]
  },
  {
   "cell_type": "code",
   "execution_count": 26,
   "id": "254bca57",
   "metadata": {},
   "outputs": [
    {
     "name": "stdout",
     "output_type": "stream",
     "text": [
      "2\n"
     ]
    }
   ],
   "source": [
    "print(c)"
   ]
  },
  {
   "cell_type": "code",
   "execution_count": 29,
   "id": "d2d7b5f1",
   "metadata": {},
   "outputs": [],
   "source": [
    "y.extend([19,19.12])"
   ]
  },
  {
   "cell_type": "code",
   "execution_count": 30,
   "id": "a56b7301",
   "metadata": {},
   "outputs": [
    {
     "data": {
      "text/plain": [
       "[18.11, 'gaurav', 18, 18, 19, 19.12]"
      ]
     },
     "execution_count": 30,
     "metadata": {},
     "output_type": "execute_result"
    }
   ],
   "source": [
    "y"
   ]
  },
  {
   "cell_type": "code",
   "execution_count": 31,
   "id": "5ce0e184",
   "metadata": {},
   "outputs": [],
   "source": [
    "c=y.count(19)"
   ]
  },
  {
   "cell_type": "code",
   "execution_count": 32,
   "id": "f3d522f5",
   "metadata": {},
   "outputs": [
    {
     "data": {
      "text/plain": [
       "1"
      ]
     },
     "execution_count": 32,
     "metadata": {},
     "output_type": "execute_result"
    }
   ],
   "source": [
    "c"
   ]
  },
  {
   "cell_type": "code",
   "execution_count": 33,
   "id": "e654e6e0",
   "metadata": {},
   "outputs": [
    {
     "data": {
      "text/plain": [
       "[18.11, 'gaurav', 18, 18, 19, 19.12]"
      ]
     },
     "execution_count": 33,
     "metadata": {},
     "output_type": "execute_result"
    }
   ],
   "source": [
    "y"
   ]
  },
  {
   "cell_type": "code",
   "execution_count": 34,
   "id": "6ca9f89d",
   "metadata": {},
   "outputs": [
    {
     "name": "stdout",
     "output_type": "stream",
     "text": [
      "gaurav\n"
     ]
    }
   ],
   "source": [
    "print(y[1])"
   ]
  },
  {
   "cell_type": "code",
   "execution_count": 35,
   "id": "05a2f55c",
   "metadata": {},
   "outputs": [
    {
     "data": {
      "text/plain": [
       "2"
      ]
     },
     "execution_count": 35,
     "metadata": {},
     "output_type": "execute_result"
    }
   ],
   "source": [
    "y.index(18)"
   ]
  },
  {
   "cell_type": "code",
   "execution_count": 36,
   "id": "ae0dc927",
   "metadata": {},
   "outputs": [],
   "source": [
    "i=y.index(19)"
   ]
  },
  {
   "cell_type": "code",
   "execution_count": 37,
   "id": "cb4f3dd0",
   "metadata": {},
   "outputs": [
    {
     "data": {
      "text/plain": [
       "4"
      ]
     },
     "execution_count": 37,
     "metadata": {},
     "output_type": "execute_result"
    }
   ],
   "source": [
    "i"
   ]
  },
  {
   "cell_type": "code",
   "execution_count": null,
   "id": "87129d3c",
   "metadata": {},
   "outputs": [],
   "source": []
  }
 ],
 "metadata": {
  "kernelspec": {
   "display_name": "Python 3 (ipykernel)",
   "language": "python",
   "name": "python3"
  },
  "language_info": {
   "codemirror_mode": {
    "name": "ipython",
    "version": 3
   },
   "file_extension": ".py",
   "mimetype": "text/x-python",
   "name": "python",
   "nbconvert_exporter": "python",
   "pygments_lexer": "ipython3",
   "version": "3.10.9"
  }
 },
 "nbformat": 4,
 "nbformat_minor": 5
}
